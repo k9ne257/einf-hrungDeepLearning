{
 "cells": [
  {
   "metadata": {},
   "cell_type": "markdown",
   "source": "# Aufgabe 1",
   "id": "1a3313988e08c406"
  },
  {
   "metadata": {
    "ExecuteTime": {
     "end_time": "2024-10-29T13:49:32.101600Z",
     "start_time": "2024-10-29T13:49:29.671536Z"
    }
   },
   "cell_type": "code",
   "source": [
    "import torch\n",
    "\n",
    "# Überprüfen der Verfügbarkeit von CUDA (NVIDIA)\n",
    "print(\"CUDA verfügbar:\", torch.cuda.is_available())\n",
    "# Überprüfen der Verfügbarkeit von MPS (Apple Silicon)\n",
    "print(\"MPS verfügbar:\", torch.backends.mps.is_available())\n",
    "# CPU Fähigkeiten ausgeben\n",
    "print(\"CPU Fähigkeiten:\", torch.backends.cpu.get_cpu_capability())\n"
   ],
   "id": "9df3142a5fdb0ebe",
   "outputs": [
    {
     "name": "stdout",
     "output_type": "stream",
     "text": [
      "CUDA verfügbar: False\n",
      "MPS verfügbar: False\n",
      "CPU Fähigkeiten: AVX2\n"
     ]
    }
   ],
   "execution_count": 3
  },
  {
   "metadata": {},
   "cell_type": "markdown",
   "source": "# Aufgabe 2",
   "id": "5d84a35555762018"
  },
  {
   "metadata": {
    "ExecuteTime": {
     "end_time": "2024-10-29T13:49:54.497494Z",
     "start_time": "2024-10-29T13:49:52.459570Z"
    }
   },
   "cell_type": "code",
   "source": [
    "import torch\n",
    "import torch.nn.functional as F\n",
    "import matplotlib.pyplot as plt\n",
    "from sklearn.datasets import make_moons\n",
    "from sklearn.model_selection import train_test_split\n",
    "\n",
    "# Heaviside-Funktion\n",
    "def heaviside(x):\n",
    "    return torch.where(x >= 0, torch.tensor(1.0), torch.tensor(0.0))\n",
    "\n",
    "# Verlustfunktion\n",
    "def perceptron_loss(label, true_label):\n",
    "    return (label != true_label).sum().item()\n",
    "\n",
    "# Perzeptron Inferenz\n",
    "def perceptron_infer(x, params):\n",
    "    return heaviside(torch.matmul(x, params))\n",
    "\n",
    "# Optimizer Step\n",
    "def optimizer_step(x, y, params):\n",
    "    for i in range(len(y)):\n",
    "        prediction = heaviside(torch.dot(params, x[i]))\n",
    "        error = y[i] - prediction\n",
    "        params += error * x[i]  # Update Rule\n",
    "    return params\n",
    "\n",
    "# Hauptprogramm\n",
    "def main():\n",
    "    # Generiere den Datensatz\n",
    "    X, y = make_moons(n_samples=100, noise=0.1, random_state=42)\n",
    "    X_train, X_test, y_train, y_test = train_test_split(X, y, test_size=0.3, random_state=42)\n",
    "\n",
    "    # Konvertiere zu Torch Tensors\n",
    "    X_train_tensor = torch.FloatTensor(X_train)\n",
    "    y_train_tensor = torch.FloatTensor(y_train)\n",
    "    X_test_tensor = torch.FloatTensor(X_test)\n",
    "    y_test_tensor = torch.FloatTensor(y_test)\n",
    "\n",
    "    # Initialisiere Gewichte\n",
    "    params = torch.zeros(X_train_tensor.shape[1], dtype=torch.float32)\n",
    "\n",
    "    EPOCHS = 10\n",
    "\n",
    "    # Training des Perzeptrons\n",
    "    for n in range(EPOCHS):\n",
    "        y_pred = perceptron_infer(X_train_tensor, params)\n",
    "        loss = perceptron_loss(y_pred, y_train_tensor)\n",
    "        print(f\"Loss at {loss} in epoch {n}\")\n",
    "        params = optimizer_step(X_train_tensor, y_train_tensor, params)\n",
    "\n",
    "    # Teste die Vorhersage\n",
    "    y_test_pred = perceptron_infer(X_test_tensor, params)\n",
    "\n",
    "    # Visualisierung\n",
    "    plt.scatter(X_test[y_test_pred == 0][:, 0], X_test[y_test_pred == 0][:, 1], color='red', label='Class 0')\n",
    "    plt.scatter(X_test[y_test_pred == 1][:, 0], X_test[y_test_pred == 1][:, 1], color='blue', label='Class 1')\n",
    "    plt.title(\"Test-Datensatz\")\n",
    "    plt.legend()\n",
    "    plt.show()\n",
    "\n",
    "if __name__ == \"__main__\":\n",
    "    main()\n"
   ],
   "id": "4abc8c30c37feb9d",
   "outputs": [
    {
     "name": "stdout",
     "output_type": "stream",
     "text": [
      "Loss at 30 in epoch 0\n",
      "Loss at 10 in epoch 1\n",
      "Loss at 15 in epoch 2\n",
      "Loss at 13 in epoch 3\n",
      "Loss at 11 in epoch 4\n",
      "Loss at 11 in epoch 5\n",
      "Loss at 13 in epoch 6\n",
      "Loss at 14 in epoch 7\n",
      "Loss at 12 in epoch 8\n",
      "Loss at 39 in epoch 9\n"
     ]
    },
    {
     "data": {
      "text/plain": [
       "<Figure size 640x480 with 1 Axes>"
      ],
      "image/png": "[encoded data removed]"
     },
     "metadata": {},
     "output_type": "display_data"
    }
   ],
   "execution_count": 4
  },
  {
   "metadata": {},
   "cell_type": "code",
   "outputs": [],
   "execution_count": null,
   "source": "",
   "id": "c78daad6b801018b"
  }
 ],
 "metadata": {
  "kernelspec": {
   "display_name": "Python 3",
   "language": "python",
   "name": "python3"
  },
  "language_info": {
   "codemirror_mode": {
    "name": "ipython",
    "version": 2
   },
   "file_extension": ".py",
   "mimetype": "text/x-python",
   "name": "python",
   "nbconvert_exporter": "python",
   "pygments_lexer": "ipython2",
   "version": "2.7.6"
  }
 },
 "nbformat": 4,
 "nbformat_minor": 5
}
