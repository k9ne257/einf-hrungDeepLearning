{
 "cells": [
  {
   "metadata": {},
   "cell_type": "markdown",
   "source": "# Aufgabe 1",
   "id": "6f64e026c56d032e"
  },
  {
   "metadata": {},
   "cell_type": "markdown",
   "source": [
    "Bestimmen Sie eine schwache Ableitung \\(g : \\mathbb{R} \\to \\mathbb{R} \\)für die Maximums-Funktion:\n",
    "\n",
    "\n",
    "\n",
    "$$\n",
    "m(x) := \\max(0, x) =\n",
    "\\begin{cases} \n",
    "0, & \\text{für } x \\leq 0 \\\\\n",
    "x, & \\text{für } x > 0\n",
    "\\end{cases}\n",
    "$$\n",
    "\n",
    "\n",
    "**Tipp:** Überlegen Sie, dass die schwache Ableitung mit einer normalen Ableitung übereinstimmen kann, an den Stellen \\( x \\), an denen \\( m(x) \\) in einem Intervall um \\( x \\) differenzierbar ist. Sie müssen keine Integrale berechnen."
   ],
   "id": "86074c970c13b07a"
  },
  {
   "metadata": {},
   "cell_type": "markdown",
   "source": "",
   "id": "dca3996fb6148657"
  },
  {
   "metadata": {},
   "cell_type": "markdown",
   "source": [
    "### Lösung:\n",
    "\n",
    "Die schwache Ableitung der Maximum-Funktion m(x) = max(0, x) ist:\n",
    "\n",
    "$$\n",
    "g(x) = \\text{sign}(x) =\n",
    "\\begin{cases}\n",
    "0, & \\text{für } x < 0 \\\\\n",
    "1, & \\text{für } x > 0\n",
    "\\end{cases}\n",
    "$$\n",
    "\n",
    "An der Stelle x = 0 könnte man argumentieren, dass g(0) = 0, da m(x) dort nicht differenzierbar ist und \\( \\text{sign}(0) = 0 \\).\n"
   ],
   "id": "dcbc37284c9b3d8"
  },
  {
   "metadata": {},
   "cell_type": "markdown",
   "source": [
    "# Aufgabe 2\n",
    "\n",
    "\n",
    "Sei \\( x \\in \\mathbb{R}^n \\) und \\( s : \\mathbb{R}^n \\to \\mathbb{R} \\) definiert als das Skalarprodukt:\n",
    "\n",
    "\\[\n",
    "s(w) := w \\cdot x = \\sum_{j=1}^{n} w_j x_j\n",
    "\\]\n",
    "\n",
    "Bestimmen Sie die Ableitungen von \\( s \\) nach den einzelnen \\( w_j \\), also \\( \\frac{\\partial}{\\partial w_j} s(w) \\) für \\( j = 1, \\dots, n \\).\n",
    "\n",
    "**Tipp:** Überlegen Sie sich erst die Fälle \\( n = 1 \\) und \\( n = 2 \\).\n",
    "\n",
    "### Lösung:\n",
    "\n",
    "Für \\( s(w) = w \\cdot x = \\sum_{j=1}^{n} w_j x_j \\) gilt:\n",
    "\n",
    "\\[\n",
    "\\frac{\\partial s(w)}{\\partial w_j} = x_j\n",
    "\\]\n",
    "\n",
    "Dies ist die Ableitung des Skalarprodukts nach der Komponente \\( w_j \\).\n",
    "\n",
    "---"
   ],
   "id": "f356d7f40a7a5850"
  },
  {
   "metadata": {},
   "cell_type": "markdown",
   "source": "# Aufgabe 3",
   "id": "66be9ab9ae2715c8"
  },
  {
   "metadata": {},
   "cell_type": "markdown",
   "source": [
    "Seien \\( y \\in \\{0, 1\\} \\) und \\( x \\in \\mathbb{R}^n \\) fest. Bestimmen Sie mit Hilfe der Kettenregel \\( \\frac{d}{dx} f(g(x)) = f'(g(x)) g'(x) \\) eine schwache Ableitung nach \\( w_j \\) für die Funktion \\( L_{x,y} : \\mathbb{R}^n \\to \\mathbb{R} \\) mit der Definition:\n",
    "\n",
    "\\[\n",
    "w \\mapsto L_{x,y}(w) := \\max(0, (1 - 2y)(w \\cdot x))\n",
    "\\]"
   ],
   "id": "367a53d8799772fa"
  },
  {
   "metadata": {},
   "cell_type": "markdown",
   "source": [
    "### Lösung:\n",
    "\n",
    "Die Funktion \\( L_{x,y}(w) \\) ist:\n",
    "\n",
    "\\[\n",
    "L_{x,y}(w) = \\max(0, (1 - 2y)(w \\cdot x))\n",
    "\\]\n",
    "\n",
    "Die schwache Ableitung dieser Funktion nach \\( w_j \\) lautet:\n",
    "\n",
    "\\[\n",
    "\\frac{\\partial L_{x,y}(w)}{\\partial w_j} =\n",
    "\\begin{cases}\n",
    "0, & \\text{wenn } (1 - 2y)(w \\cdot x) \\leq 0 \\\\\n",
    "(1 - 2y) x_j, & \\text{wenn } (1 - 2y)(w \\cdot x) > 0\n",
    "\\end{cases}\n",
    "\\]"
   ],
   "id": "c864c9e5a72b1818"
  },
  {
   "metadata": {},
   "cell_type": "markdown",
   "source": [
    "# Aufgabe 4\n",
    "\n"
   ],
   "id": "f61449408b476158"
  },
  {
   "metadata": {},
   "cell_type": "markdown",
   "source": "## Teile von Aufgabe 2 und 3 wurden mit Hilfe von Chatgpt erstellt.",
   "id": "2f85e040aec057dd"
  }
 ],
 "metadata": {
  "kernelspec": {
   "display_name": "Python 3",
   "language": "python",
   "name": "python3"
  },
  "language_info": {
   "codemirror_mode": {
    "name": "ipython",
    "version": 2
   },
   "file_extension": ".py",
   "mimetype": "text/x-python",
   "name": "python",
   "nbconvert_exporter": "python",
   "pygments_lexer": "ipython2",
   "version": "2.7.6"
  }
 },
 "nbformat": 4,
 "nbformat_minor": 5
}
