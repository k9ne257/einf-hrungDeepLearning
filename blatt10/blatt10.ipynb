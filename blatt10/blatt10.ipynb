{
 "cells": [
  {
   "metadata": {},
   "cell_type": "code",
   "outputs": [],
   "execution_count": null,
   "source": "",
   "id": "8a443453216fcdd0"
  },
  {
   "cell_type": "code",
   "id": "initial_id",
   "metadata": {
    "collapsed": true,
    "ExecuteTime": {
     "end_time": "2024-12-17T11:54:27.391135Z",
     "start_time": "2024-12-17T11:54:25.512113Z"
    }
   },
   "source": [
    "import matplotlib.pyplot as plt\n",
    "from spam_word2vec import spam_word2vec\n",
    "\n",
    "# Dummy-Accuracy-Werte für Demonstration\n",
    "accuracy = {\n",
    "    \"A-0\": [0.65, 0.70, 0.72, 0.74],\n",
    "    \"A-1\": [0.66, 0.72, 0.75, 0.78],\n",
    "    \"B-2\": [0.70, 0.76, 0.80, 0.85],\n",
    "}\n",
    "\n",
    "# Accuracy-Kurven plotten\n",
    "plt.figure()\n",
    "for label, acc in accuracy.items():\n",
    "    plt.plot(acc, label=label)\n",
    "plt.xlabel('Epochs')\n",
    "plt.ylabel('Accuracy')\n",
    "plt.title('Training Accuracy for Different Scenarios')\n",
    "plt.legend()\n",
    "plt.show()\n"
   ],
   "outputs": [
    {
     "ename": "ModuleNotFoundError",
     "evalue": "No module named 'spam_word2vec'",
     "output_type": "error",
     "traceback": [
      "\u001B[1;31m---------------------------------------------------------------------------\u001B[0m",
      "\u001B[1;31mModuleNotFoundError\u001B[0m                       Traceback (most recent call last)",
      "Input \u001B[1;32mIn [1]\u001B[0m, in \u001B[0;36m<cell line: 2>\u001B[1;34m()\u001B[0m\n\u001B[0;32m      1\u001B[0m \u001B[38;5;28;01mimport\u001B[39;00m \u001B[38;5;21;01mmatplotlib\u001B[39;00m\u001B[38;5;21;01m.\u001B[39;00m\u001B[38;5;21;01mpyplot\u001B[39;00m \u001B[38;5;28;01mas\u001B[39;00m \u001B[38;5;21;01mplt\u001B[39;00m\n\u001B[1;32m----> 2\u001B[0m \u001B[38;5;28;01mfrom\u001B[39;00m \u001B[38;5;21;01mspam_word2vec\u001B[39;00m \u001B[38;5;28;01mimport\u001B[39;00m spam_word2vec\n\u001B[0;32m      4\u001B[0m \u001B[38;5;66;03m# Dummy-Accuracy-Werte für Demonstration\u001B[39;00m\n\u001B[0;32m      5\u001B[0m accuracy \u001B[38;5;241m=\u001B[39m {\n\u001B[0;32m      6\u001B[0m     \u001B[38;5;124m\"\u001B[39m\u001B[38;5;124mA-0\u001B[39m\u001B[38;5;124m\"\u001B[39m: [\u001B[38;5;241m0.65\u001B[39m, \u001B[38;5;241m0.70\u001B[39m, \u001B[38;5;241m0.72\u001B[39m, \u001B[38;5;241m0.74\u001B[39m],\n\u001B[0;32m      7\u001B[0m     \u001B[38;5;124m\"\u001B[39m\u001B[38;5;124mA-1\u001B[39m\u001B[38;5;124m\"\u001B[39m: [\u001B[38;5;241m0.66\u001B[39m, \u001B[38;5;241m0.72\u001B[39m, \u001B[38;5;241m0.75\u001B[39m, \u001B[38;5;241m0.78\u001B[39m],\n\u001B[0;32m      8\u001B[0m     \u001B[38;5;124m\"\u001B[39m\u001B[38;5;124mB-2\u001B[39m\u001B[38;5;124m\"\u001B[39m: [\u001B[38;5;241m0.70\u001B[39m, \u001B[38;5;241m0.76\u001B[39m, \u001B[38;5;241m0.80\u001B[39m, \u001B[38;5;241m0.85\u001B[39m],\n\u001B[0;32m      9\u001B[0m }\n",
      "\u001B[1;31mModuleNotFoundError\u001B[0m: No module named 'spam_word2vec'"
     ]
    }
   ],
   "execution_count": 1
  }
 ],
 "metadata": {
  "kernelspec": {
   "display_name": "Python 3",
   "language": "python",
   "name": "python3"
  },
  "language_info": {
   "codemirror_mode": {
    "name": "ipython",
    "version": 2
   },
   "file_extension": ".py",
   "mimetype": "text/x-python",
   "name": "python",
   "nbconvert_exporter": "python",
   "pygments_lexer": "ipython2",
   "version": "2.7.6"
  }
 },
 "nbformat": 4,
 "nbformat_minor": 5
}
